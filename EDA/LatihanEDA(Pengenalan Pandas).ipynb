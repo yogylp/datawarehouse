{
 "cells": [
  {
   "cell_type": "code",
   "execution_count": 11,
   "metadata": {},
   "outputs": [],
   "source": [
    "import pandas as pd"
   ]
  },
  {
   "cell_type": "code",
   "execution_count": 21,
   "metadata": {},
   "outputs": [],
   "source": [
    "a = pd.read_csv('data/data.csv', index_col=0, parse_dates=True)"
   ]
  },
  {
   "cell_type": "code",
   "execution_count": 22,
   "metadata": {},
   "outputs": [
    {
     "data": {
      "text/plain": [
       "pandas.core.frame.DataFrame"
      ]
     },
     "execution_count": 22,
     "metadata": {},
     "output_type": "execute_result"
    }
   ],
   "source": [
    "type(a)"
   ]
  },
  {
   "cell_type": "code",
   "execution_count": 23,
   "metadata": {},
   "outputs": [
    {
     "data": {
      "text/plain": [
       "(17, 2)"
      ]
     },
     "execution_count": 23,
     "metadata": {},
     "output_type": "execute_result"
    }
   ],
   "source": [
    "a.shape"
   ]
  },
  {
   "cell_type": "code",
   "execution_count": 25,
   "metadata": {},
   "outputs": [
    {
     "data": {
      "text/plain": [
       "Index(['alamat_perusahaan', 'kecamatan'], dtype='object')"
      ]
     },
     "execution_count": 25,
     "metadata": {},
     "output_type": "execute_result"
    }
   ],
   "source": [
    "a.columns"
   ]
  },
  {
   "cell_type": "code",
   "execution_count": 26,
   "metadata": {},
   "outputs": [
    {
     "data": {
      "text/plain": [
       "pandas.core.indexes.base.Index"
      ]
     },
     "execution_count": 26,
     "metadata": {},
     "output_type": "execute_result"
    }
   ],
   "source": [
    "type(a.columns)"
   ]
  },
  {
   "cell_type": "code",
   "execution_count": 27,
   "metadata": {},
   "outputs": [
    {
     "data": {
      "text/plain": [
       "Index(['PT. JNE (Jalur Nugraha Eka Kurir)', 'PT. Pandu Siwi Sentosa',\n",
       "       'CV. Titipan Kilat Banda Aceh', 'PT. KGP (Kerta Gaya Pusaka)', 'PT.PCP',\n",
       "       'PT. L T H', 'PT. Patra Jasa Marina', 'PT. Hidup Bersaudara',\n",
       "       'PT. Intrasco Kilat', 'PT. Cepat Servis Sakti', 'PT.NCS',\n",
       "       'PT. Indah Cargo', 'PT.Bona Parte Pratama', 'T N T', 'X.Sys', 'ESL',\n",
       "       'PT. Bex Cargo'],\n",
       "      dtype='object', name='nama_perusahaan')"
      ]
     },
     "execution_count": 27,
     "metadata": {},
     "output_type": "execute_result"
    }
   ],
   "source": [
    "a.index"
   ]
  },
  {
   "cell_type": "code",
   "execution_count": 60,
   "metadata": {},
   "outputs": [
    {
     "data": {
      "text/plain": [
       "nama_perusahaan\n",
       "PT. JNE (Jalur Nugraha Eka Kurir)      Lueng Bata\n",
       "PT. Pandu Siwi Sentosa                 Lueng Bata\n",
       "CV. Titipan Kilat Banda Aceh             Kutaraja\n",
       "PT. KGP (Kerta Gaya Pusaka)              Kutaraja\n",
       "PT.PCP                                 Lueng Bata\n",
       "PT. L T H                              Lueng Bata\n",
       "PT. Patra Jasa Marina                    Kutaraja\n",
       "PT. Hidup Bersaudara                 Baiturrahman\n",
       "PT. Intrasco Kilat                   Baiturrahman\n",
       "PT. Cepat Servis Sakti               Baiturrahman\n",
       "PT.NCS                                 Lueng Bata\n",
       "PT. Indah Cargo                        Lueng Bata\n",
       "PT.Bona Parte Pratama                    Kutaraja\n",
       "T N T                                  Syah Kuala\n",
       "X.Sys                                    Kutaraja\n",
       "ESL                                    Syah Kuala\n",
       "PT. Bex Cargo                                 NaN\n",
       "Name: kecamatan, dtype: object"
      ]
     },
     "execution_count": 60,
     "metadata": {},
     "output_type": "execute_result"
    }
   ],
   "source": [
    "a['kecamatan']"
   ]
  },
  {
   "cell_type": "code",
   "execution_count": 32,
   "metadata": {},
   "outputs": [
    {
     "data": {
      "text/plain": [
       "pandas.core.series.Series"
      ]
     },
     "execution_count": 32,
     "metadata": {},
     "output_type": "execute_result"
    }
   ],
   "source": [
    "type(a['kecamatan'])"
   ]
  },
  {
   "cell_type": "code",
   "execution_count": 33,
   "metadata": {},
   "outputs": [
    {
     "data": {
      "text/html": [
       "<div>\n",
       "<style scoped>\n",
       "    .dataframe tbody tr th:only-of-type {\n",
       "        vertical-align: middle;\n",
       "    }\n",
       "\n",
       "    .dataframe tbody tr th {\n",
       "        vertical-align: top;\n",
       "    }\n",
       "\n",
       "    .dataframe thead th {\n",
       "        text-align: right;\n",
       "    }\n",
       "</style>\n",
       "<table border=\"1\" class=\"dataframe\">\n",
       "  <thead>\n",
       "    <tr style=\"text-align: right;\">\n",
       "      <th></th>\n",
       "      <th>alamat_perusahaan</th>\n",
       "      <th>kecamatan</th>\n",
       "    </tr>\n",
       "    <tr>\n",
       "      <th>nama_perusahaan</th>\n",
       "      <th></th>\n",
       "      <th></th>\n",
       "    </tr>\n",
       "  </thead>\n",
       "  <tbody>\n",
       "    <tr>\n",
       "      <th>PT. JNE (Jalur Nugraha Eka Kurir)</th>\n",
       "      <td>Jl. T. Imum Lueng Bata</td>\n",
       "      <td>Lueng Bata</td>\n",
       "    </tr>\n",
       "    <tr>\n",
       "      <th>PT. Pandu Siwi Sentosa</th>\n",
       "      <td>Jl. T. Imum Lueng Bata</td>\n",
       "      <td>Lueng Bata</td>\n",
       "    </tr>\n",
       "    <tr>\n",
       "      <th>CV. Titipan Kilat Banda Aceh</th>\n",
       "      <td>Jl. Panglima Polem No. 76 D</td>\n",
       "      <td>Kutaraja</td>\n",
       "    </tr>\n",
       "    <tr>\n",
       "      <th>PT. KGP (Kerta Gaya Pusaka)</th>\n",
       "      <td>Jl. Sultan Hotel No.6</td>\n",
       "      <td>Kutaraja</td>\n",
       "    </tr>\n",
       "    <tr>\n",
       "      <th>PT.PCP</th>\n",
       "      <td>Jl. T. Imum Lueng Bata No.16</td>\n",
       "      <td>Lueng Bata</td>\n",
       "    </tr>\n",
       "    <tr>\n",
       "      <th>PT. L T H</th>\n",
       "      <td>Jl. Imum Lueng Bata No.57</td>\n",
       "      <td>Lueng Bata</td>\n",
       "    </tr>\n",
       "    <tr>\n",
       "      <th>PT. Patra Jasa Marina</th>\n",
       "      <td>Jl. Sri Ratu Safiatuddin No.26</td>\n",
       "      <td>Kutaraja</td>\n",
       "    </tr>\n",
       "    <tr>\n",
       "      <th>PT. Hidup Bersaudara</th>\n",
       "      <td>Jl. T. Umar No. 94 Sukaramai</td>\n",
       "      <td>Baiturrahman</td>\n",
       "    </tr>\n",
       "    <tr>\n",
       "      <th>PT. Intrasco Kilat</th>\n",
       "      <td>Jl. STA. Mahmudsyah No.2</td>\n",
       "      <td>Baiturrahman</td>\n",
       "    </tr>\n",
       "    <tr>\n",
       "      <th>PT. Cepat Servis Sakti</th>\n",
       "      <td>Jl. T. Umar Banda Aceh</td>\n",
       "      <td>Baiturrahman</td>\n",
       "    </tr>\n",
       "    <tr>\n",
       "      <th>PT.NCS</th>\n",
       "      <td>Jl. T.Imum Lueng Bata</td>\n",
       "      <td>Lueng Bata</td>\n",
       "    </tr>\n",
       "    <tr>\n",
       "      <th>PT. Indah Cargo</th>\n",
       "      <td>Jl.T.Imum Lueng Bta Km.3</td>\n",
       "      <td>Lueng Bata</td>\n",
       "    </tr>\n",
       "    <tr>\n",
       "      <th>PT.Bona Parte Pratama</th>\n",
       "      <td>Jl. T. Dianjung No. 160 Keudah</td>\n",
       "      <td>Kutaraja</td>\n",
       "    </tr>\n",
       "    <tr>\n",
       "      <th>T N T</th>\n",
       "      <td>Jl. T. Nyak Arief Lingke B.Aceh</td>\n",
       "      <td>Syah Kuala</td>\n",
       "    </tr>\n",
       "    <tr>\n",
       "      <th>X.Sys</th>\n",
       "      <td>Jl. Panglima Polem No. 151</td>\n",
       "      <td>Kutaraja</td>\n",
       "    </tr>\n",
       "    <tr>\n",
       "      <th>ESL</th>\n",
       "      <td>Jl.T.Nyak Arief Banda Aceh</td>\n",
       "      <td>Syah Kuala</td>\n",
       "    </tr>\n",
       "    <tr>\n",
       "      <th>PT. Bex Cargo</th>\n",
       "      <td>Jl.Banda Aceh - Medan Km 4</td>\n",
       "      <td>NaN</td>\n",
       "    </tr>\n",
       "  </tbody>\n",
       "</table>\n",
       "</div>"
      ],
      "text/plain": [
       "                                                 alamat_perusahaan  \\\n",
       "nama_perusahaan                                                      \n",
       "PT. JNE (Jalur Nugraha Eka Kurir)           Jl. T. Imum Lueng Bata   \n",
       "PT. Pandu Siwi Sentosa                      Jl. T. Imum Lueng Bata   \n",
       "CV. Titipan Kilat Banda Aceh           Jl. Panglima Polem No. 76 D   \n",
       "PT. KGP (Kerta Gaya Pusaka)                  Jl. Sultan Hotel No.6   \n",
       "PT.PCP                                Jl. T. Imum Lueng Bata No.16   \n",
       "PT. L T H                                Jl. Imum Lueng Bata No.57   \n",
       "PT. Patra Jasa Marina               Jl. Sri Ratu Safiatuddin No.26   \n",
       "PT. Hidup Bersaudara                  Jl. T. Umar No. 94 Sukaramai   \n",
       "PT. Intrasco Kilat                        Jl. STA. Mahmudsyah No.2   \n",
       "PT. Cepat Servis Sakti                      Jl. T. Umar Banda Aceh   \n",
       "PT.NCS                                       Jl. T.Imum Lueng Bata   \n",
       "PT. Indah Cargo                           Jl.T.Imum Lueng Bta Km.3   \n",
       "PT.Bona Parte Pratama               Jl. T. Dianjung No. 160 Keudah   \n",
       "T N T                              Jl. T. Nyak Arief Lingke B.Aceh   \n",
       "X.Sys                                   Jl. Panglima Polem No. 151   \n",
       "ESL                                     Jl.T.Nyak Arief Banda Aceh   \n",
       "PT. Bex Cargo                           Jl.Banda Aceh - Medan Km 4   \n",
       "\n",
       "                                      kecamatan  \n",
       "nama_perusahaan                                  \n",
       "PT. JNE (Jalur Nugraha Eka Kurir)    Lueng Bata  \n",
       "PT. Pandu Siwi Sentosa               Lueng Bata  \n",
       "CV. Titipan Kilat Banda Aceh           Kutaraja  \n",
       "PT. KGP (Kerta Gaya Pusaka)            Kutaraja  \n",
       "PT.PCP                               Lueng Bata  \n",
       "PT. L T H                            Lueng Bata  \n",
       "PT. Patra Jasa Marina                  Kutaraja  \n",
       "PT. Hidup Bersaudara               Baiturrahman  \n",
       "PT. Intrasco Kilat                 Baiturrahman  \n",
       "PT. Cepat Servis Sakti             Baiturrahman  \n",
       "PT.NCS                               Lueng Bata  \n",
       "PT. Indah Cargo                      Lueng Bata  \n",
       "PT.Bona Parte Pratama                  Kutaraja  \n",
       "T N T                                Syah Kuala  \n",
       "X.Sys                                  Kutaraja  \n",
       "ESL                                  Syah Kuala  \n",
       "PT. Bex Cargo                               NaN  "
      ]
     },
     "execution_count": 33,
     "metadata": {},
     "output_type": "execute_result"
    }
   ],
   "source": [
    "a[['alamat_perusahaan', 'kecamatan']]"
   ]
  },
  {
   "cell_type": "code",
   "execution_count": 35,
   "metadata": {},
   "outputs": [
    {
     "data": {
      "text/plain": [
       "pandas.core.frame.DataFrame"
      ]
     },
     "execution_count": 35,
     "metadata": {},
     "output_type": "execute_result"
    }
   ],
   "source": [
    "type(a[['alamat_perusahaan', 'kecamatan']])"
   ]
  },
  {
   "cell_type": "code",
   "execution_count": 36,
   "metadata": {},
   "outputs": [
    {
     "data": {
      "text/plain": [
       "alamat_perusahaan    Jl. T. Imum Lueng Bata\n",
       "kecamatan                        Lueng Bata\n",
       "Name: PT. JNE (Jalur Nugraha Eka Kurir), dtype: object"
      ]
     },
     "execution_count": 36,
     "metadata": {},
     "output_type": "execute_result"
    }
   ],
   "source": [
    "a.iloc[0]"
   ]
  },
  {
   "cell_type": "code",
   "execution_count": 39,
   "metadata": {},
   "outputs": [
    {
     "data": {
      "text/html": [
       "<div>\n",
       "<style scoped>\n",
       "    .dataframe tbody tr th:only-of-type {\n",
       "        vertical-align: middle;\n",
       "    }\n",
       "\n",
       "    .dataframe tbody tr th {\n",
       "        vertical-align: top;\n",
       "    }\n",
       "\n",
       "    .dataframe thead th {\n",
       "        text-align: right;\n",
       "    }\n",
       "</style>\n",
       "<table border=\"1\" class=\"dataframe\">\n",
       "  <thead>\n",
       "    <tr style=\"text-align: right;\">\n",
       "      <th></th>\n",
       "      <th>alamat_perusahaan</th>\n",
       "      <th>kecamatan</th>\n",
       "    </tr>\n",
       "    <tr>\n",
       "      <th>nama_perusahaan</th>\n",
       "      <th></th>\n",
       "      <th></th>\n",
       "    </tr>\n",
       "  </thead>\n",
       "  <tbody>\n",
       "    <tr>\n",
       "      <th>PT. JNE (Jalur Nugraha Eka Kurir)</th>\n",
       "      <td>Jl. T. Imum Lueng Bata</td>\n",
       "      <td>Lueng Bata</td>\n",
       "    </tr>\n",
       "    <tr>\n",
       "      <th>PT. Pandu Siwi Sentosa</th>\n",
       "      <td>Jl. T. Imum Lueng Bata</td>\n",
       "      <td>Lueng Bata</td>\n",
       "    </tr>\n",
       "  </tbody>\n",
       "</table>\n",
       "</div>"
      ],
      "text/plain": [
       "                                        alamat_perusahaan   kecamatan\n",
       "nama_perusahaan                                                      \n",
       "PT. JNE (Jalur Nugraha Eka Kurir)  Jl. T. Imum Lueng Bata  Lueng Bata\n",
       "PT. Pandu Siwi Sentosa             Jl. T. Imum Lueng Bata  Lueng Bata"
      ]
     },
     "execution_count": 39,
     "metadata": {},
     "output_type": "execute_result"
    }
   ],
   "source": [
    "a.iloc[0:2]"
   ]
  },
  {
   "cell_type": "code",
   "execution_count": 46,
   "metadata": {},
   "outputs": [
    {
     "data": {
      "text/plain": [
       "nama_perusahaan\n",
       "PT. JNE (Jalur Nugraha Eka Kurir)    Lueng Bata\n",
       "PT. Pandu Siwi Sentosa               Lueng Bata\n",
       "Name: kecamatan, dtype: object"
      ]
     },
     "execution_count": 46,
     "metadata": {},
     "output_type": "execute_result"
    }
   ],
   "source": [
    "a.iloc[0:2, 1] #Karena hanya memiliki 2 colom sedangkan iloc[,2] mengacu pada kolom ketiga"
   ]
  },
  {
   "cell_type": "code",
   "execution_count": 54,
   "metadata": {},
   "outputs": [
    {
     "data": {
      "text/html": [
       "<div>\n",
       "<style scoped>\n",
       "    .dataframe tbody tr th:only-of-type {\n",
       "        vertical-align: middle;\n",
       "    }\n",
       "\n",
       "    .dataframe tbody tr th {\n",
       "        vertical-align: top;\n",
       "    }\n",
       "\n",
       "    .dataframe thead th {\n",
       "        text-align: right;\n",
       "    }\n",
       "</style>\n",
       "<table border=\"1\" class=\"dataframe\">\n",
       "  <thead>\n",
       "    <tr style=\"text-align: right;\">\n",
       "      <th></th>\n",
       "      <th>kecamatan</th>\n",
       "    </tr>\n",
       "    <tr>\n",
       "      <th>nama_perusahaan</th>\n",
       "      <th></th>\n",
       "    </tr>\n",
       "  </thead>\n",
       "  <tbody>\n",
       "    <tr>\n",
       "      <th>PT. JNE (Jalur Nugraha Eka Kurir)</th>\n",
       "      <td>Lueng Bata</td>\n",
       "    </tr>\n",
       "    <tr>\n",
       "      <th>PT. Pandu Siwi Sentosa</th>\n",
       "      <td>Lueng Bata</td>\n",
       "    </tr>\n",
       "  </tbody>\n",
       "</table>\n",
       "</div>"
      ],
      "text/plain": [
       "                                    kecamatan\n",
       "nama_perusahaan                              \n",
       "PT. JNE (Jalur Nugraha Eka Kurir)  Lueng Bata\n",
       "PT. Pandu Siwi Sentosa             Lueng Bata"
      ]
     },
     "execution_count": 54,
     "metadata": {},
     "output_type": "execute_result"
    }
   ],
   "source": [
    "a.iloc[0:2, 1:4] #tidak paham"
   ]
  },
  {
   "cell_type": "code",
   "execution_count": 56,
   "metadata": {},
   "outputs": [
    {
     "data": {
      "text/html": [
       "<div>\n",
       "<style scoped>\n",
       "    .dataframe tbody tr th:only-of-type {\n",
       "        vertical-align: middle;\n",
       "    }\n",
       "\n",
       "    .dataframe tbody tr th {\n",
       "        vertical-align: top;\n",
       "    }\n",
       "\n",
       "    .dataframe thead th {\n",
       "        text-align: right;\n",
       "    }\n",
       "</style>\n",
       "<table border=\"1\" class=\"dataframe\">\n",
       "  <thead>\n",
       "    <tr style=\"text-align: right;\">\n",
       "      <th></th>\n",
       "      <th>alamat_perusahaan</th>\n",
       "      <th>kecamatan</th>\n",
       "    </tr>\n",
       "    <tr>\n",
       "      <th>nama_perusahaan</th>\n",
       "      <th></th>\n",
       "      <th></th>\n",
       "    </tr>\n",
       "  </thead>\n",
       "  <tbody>\n",
       "    <tr>\n",
       "      <th>PT. JNE (Jalur Nugraha Eka Kurir)</th>\n",
       "      <td>Jl. T. Imum Lueng Bata</td>\n",
       "      <td>Lueng Bata</td>\n",
       "    </tr>\n",
       "    <tr>\n",
       "      <th>PT. Pandu Siwi Sentosa</th>\n",
       "      <td>Jl. T. Imum Lueng Bata</td>\n",
       "      <td>Lueng Bata</td>\n",
       "    </tr>\n",
       "    <tr>\n",
       "      <th>CV. Titipan Kilat Banda Aceh</th>\n",
       "      <td>Jl. Panglima Polem No. 76 D</td>\n",
       "      <td>Kutaraja</td>\n",
       "    </tr>\n",
       "    <tr>\n",
       "      <th>PT. KGP (Kerta Gaya Pusaka)</th>\n",
       "      <td>Jl. Sultan Hotel No.6</td>\n",
       "      <td>Kutaraja</td>\n",
       "    </tr>\n",
       "    <tr>\n",
       "      <th>PT.PCP</th>\n",
       "      <td>Jl. T. Imum Lueng Bata No.16</td>\n",
       "      <td>Lueng Bata</td>\n",
       "    </tr>\n",
       "    <tr>\n",
       "      <th>PT. L T H</th>\n",
       "      <td>Jl. Imum Lueng Bata No.57</td>\n",
       "      <td>Lueng Bata</td>\n",
       "    </tr>\n",
       "    <tr>\n",
       "      <th>PT. Patra Jasa Marina</th>\n",
       "      <td>Jl. Sri Ratu Safiatuddin No.26</td>\n",
       "      <td>Kutaraja</td>\n",
       "    </tr>\n",
       "  </tbody>\n",
       "</table>\n",
       "</div>"
      ],
      "text/plain": [
       "                                                alamat_perusahaan   kecamatan\n",
       "nama_perusahaan                                                              \n",
       "PT. JNE (Jalur Nugraha Eka Kurir)          Jl. T. Imum Lueng Bata  Lueng Bata\n",
       "PT. Pandu Siwi Sentosa                     Jl. T. Imum Lueng Bata  Lueng Bata\n",
       "CV. Titipan Kilat Banda Aceh          Jl. Panglima Polem No. 76 D    Kutaraja\n",
       "PT. KGP (Kerta Gaya Pusaka)                 Jl. Sultan Hotel No.6    Kutaraja\n",
       "PT.PCP                               Jl. T. Imum Lueng Bata No.16  Lueng Bata\n",
       "PT. L T H                               Jl. Imum Lueng Bata No.57  Lueng Bata\n",
       "PT. Patra Jasa Marina              Jl. Sri Ratu Safiatuddin No.26    Kutaraja"
      ]
     },
     "execution_count": 56,
     "metadata": {},
     "output_type": "execute_result"
    }
   ],
   "source": [
    "a.iloc[:7,:]"
   ]
  },
  {
   "cell_type": "code",
   "execution_count": 58,
   "metadata": {},
   "outputs": [
    {
     "data": {
      "text/html": [
       "<div>\n",
       "<style scoped>\n",
       "    .dataframe tbody tr th:only-of-type {\n",
       "        vertical-align: middle;\n",
       "    }\n",
       "\n",
       "    .dataframe tbody tr th {\n",
       "        vertical-align: top;\n",
       "    }\n",
       "\n",
       "    .dataframe thead th {\n",
       "        text-align: right;\n",
       "    }\n",
       "</style>\n",
       "<table border=\"1\" class=\"dataframe\">\n",
       "  <thead>\n",
       "    <tr style=\"text-align: right;\">\n",
       "      <th></th>\n",
       "      <th>alamat_perusahaan</th>\n",
       "      <th>kecamatan</th>\n",
       "    </tr>\n",
       "    <tr>\n",
       "      <th>nama_perusahaan</th>\n",
       "      <th></th>\n",
       "      <th></th>\n",
       "    </tr>\n",
       "  </thead>\n",
       "  <tbody>\n",
       "    <tr>\n",
       "      <th>PT.NCS</th>\n",
       "      <td>Jl. T.Imum Lueng Bata</td>\n",
       "      <td>Lueng Bata</td>\n",
       "    </tr>\n",
       "    <tr>\n",
       "      <th>PT. Indah Cargo</th>\n",
       "      <td>Jl.T.Imum Lueng Bta Km.3</td>\n",
       "      <td>Lueng Bata</td>\n",
       "    </tr>\n",
       "    <tr>\n",
       "      <th>PT.Bona Parte Pratama</th>\n",
       "      <td>Jl. T. Dianjung No. 160 Keudah</td>\n",
       "      <td>Kutaraja</td>\n",
       "    </tr>\n",
       "    <tr>\n",
       "      <th>T N T</th>\n",
       "      <td>Jl. T. Nyak Arief Lingke B.Aceh</td>\n",
       "      <td>Syah Kuala</td>\n",
       "    </tr>\n",
       "    <tr>\n",
       "      <th>X.Sys</th>\n",
       "      <td>Jl. Panglima Polem No. 151</td>\n",
       "      <td>Kutaraja</td>\n",
       "    </tr>\n",
       "    <tr>\n",
       "      <th>ESL</th>\n",
       "      <td>Jl.T.Nyak Arief Banda Aceh</td>\n",
       "      <td>Syah Kuala</td>\n",
       "    </tr>\n",
       "    <tr>\n",
       "      <th>PT. Bex Cargo</th>\n",
       "      <td>Jl.Banda Aceh - Medan Km 4</td>\n",
       "      <td>NaN</td>\n",
       "    </tr>\n",
       "  </tbody>\n",
       "</table>\n",
       "</div>"
      ],
      "text/plain": [
       "                                     alamat_perusahaan   kecamatan\n",
       "nama_perusahaan                                                   \n",
       "PT.NCS                           Jl. T.Imum Lueng Bata  Lueng Bata\n",
       "PT. Indah Cargo               Jl.T.Imum Lueng Bta Km.3  Lueng Bata\n",
       "PT.Bona Parte Pratama   Jl. T. Dianjung No. 160 Keudah    Kutaraja\n",
       "T N T                  Jl. T. Nyak Arief Lingke B.Aceh  Syah Kuala\n",
       "X.Sys                       Jl. Panglima Polem No. 151    Kutaraja\n",
       "ESL                         Jl.T.Nyak Arief Banda Aceh  Syah Kuala\n",
       "PT. Bex Cargo               Jl.Banda Aceh - Medan Km 4         NaN"
      ]
     },
     "execution_count": 58,
     "metadata": {},
     "output_type": "execute_result"
    }
   ],
   "source": [
    "a.iloc[-7:,:] #Menghitung dari bawah"
   ]
  },
  {
   "cell_type": "code",
   "execution_count": 62,
   "metadata": {},
   "outputs": [
    {
     "data": {
      "text/plain": [
       "alamat_perusahaan    Jl. T. Imum Lueng Bata No.16\n",
       "kecamatan                              Lueng Bata\n",
       "Name: PT.PCP, dtype: object"
      ]
     },
     "execution_count": 62,
     "metadata": {},
     "output_type": "execute_result"
    }
   ],
   "source": [
    "a.loc['PT.PCP']"
   ]
  },
  {
   "cell_type": "code",
   "execution_count": 65,
   "metadata": {},
   "outputs": [
    {
     "data": {
      "text/html": [
       "<div>\n",
       "<style scoped>\n",
       "    .dataframe tbody tr th:only-of-type {\n",
       "        vertical-align: middle;\n",
       "    }\n",
       "\n",
       "    .dataframe tbody tr th {\n",
       "        vertical-align: top;\n",
       "    }\n",
       "\n",
       "    .dataframe thead th {\n",
       "        text-align: right;\n",
       "    }\n",
       "</style>\n",
       "<table border=\"1\" class=\"dataframe\">\n",
       "  <thead>\n",
       "    <tr style=\"text-align: right;\">\n",
       "      <th></th>\n",
       "      <th>alamat_perusahaan</th>\n",
       "      <th>kecamatan</th>\n",
       "    </tr>\n",
       "    <tr>\n",
       "      <th>nama_perusahaan</th>\n",
       "      <th></th>\n",
       "      <th></th>\n",
       "    </tr>\n",
       "  </thead>\n",
       "  <tbody>\n",
       "    <tr>\n",
       "      <th>PT.PCP</th>\n",
       "      <td>Jl. T. Imum Lueng Bata No.16</td>\n",
       "      <td>Lueng Bata</td>\n",
       "    </tr>\n",
       "    <tr>\n",
       "      <th>PT. L T H</th>\n",
       "      <td>Jl. Imum Lueng Bata No.57</td>\n",
       "      <td>Lueng Bata</td>\n",
       "    </tr>\n",
       "    <tr>\n",
       "      <th>PT. Patra Jasa Marina</th>\n",
       "      <td>Jl. Sri Ratu Safiatuddin No.26</td>\n",
       "      <td>Kutaraja</td>\n",
       "    </tr>\n",
       "    <tr>\n",
       "      <th>PT. Hidup Bersaudara</th>\n",
       "      <td>Jl. T. Umar No. 94 Sukaramai</td>\n",
       "      <td>Baiturrahman</td>\n",
       "    </tr>\n",
       "    <tr>\n",
       "      <th>PT. Intrasco Kilat</th>\n",
       "      <td>Jl. STA. Mahmudsyah No.2</td>\n",
       "      <td>Baiturrahman</td>\n",
       "    </tr>\n",
       "    <tr>\n",
       "      <th>PT. Cepat Servis Sakti</th>\n",
       "      <td>Jl. T. Umar Banda Aceh</td>\n",
       "      <td>Baiturrahman</td>\n",
       "    </tr>\n",
       "    <tr>\n",
       "      <th>PT.NCS</th>\n",
       "      <td>Jl. T.Imum Lueng Bata</td>\n",
       "      <td>Lueng Bata</td>\n",
       "    </tr>\n",
       "    <tr>\n",
       "      <th>PT. Indah Cargo</th>\n",
       "      <td>Jl.T.Imum Lueng Bta Km.3</td>\n",
       "      <td>Lueng Bata</td>\n",
       "    </tr>\n",
       "    <tr>\n",
       "      <th>PT.Bona Parte Pratama</th>\n",
       "      <td>Jl. T. Dianjung No. 160 Keudah</td>\n",
       "      <td>Kutaraja</td>\n",
       "    </tr>\n",
       "    <tr>\n",
       "      <th>T N T</th>\n",
       "      <td>Jl. T. Nyak Arief Lingke B.Aceh</td>\n",
       "      <td>Syah Kuala</td>\n",
       "    </tr>\n",
       "    <tr>\n",
       "      <th>X.Sys</th>\n",
       "      <td>Jl. Panglima Polem No. 151</td>\n",
       "      <td>Kutaraja</td>\n",
       "    </tr>\n",
       "    <tr>\n",
       "      <th>ESL</th>\n",
       "      <td>Jl.T.Nyak Arief Banda Aceh</td>\n",
       "      <td>Syah Kuala</td>\n",
       "    </tr>\n",
       "  </tbody>\n",
       "</table>\n",
       "</div>"
      ],
      "text/plain": [
       "                                      alamat_perusahaan     kecamatan\n",
       "nama_perusahaan                                                      \n",
       "PT.PCP                     Jl. T. Imum Lueng Bata No.16    Lueng Bata\n",
       "PT. L T H                     Jl. Imum Lueng Bata No.57    Lueng Bata\n",
       "PT. Patra Jasa Marina    Jl. Sri Ratu Safiatuddin No.26      Kutaraja\n",
       "PT. Hidup Bersaudara       Jl. T. Umar No. 94 Sukaramai  Baiturrahman\n",
       "PT. Intrasco Kilat             Jl. STA. Mahmudsyah No.2  Baiturrahman\n",
       "PT. Cepat Servis Sakti           Jl. T. Umar Banda Aceh  Baiturrahman\n",
       "PT.NCS                            Jl. T.Imum Lueng Bata    Lueng Bata\n",
       "PT. Indah Cargo                Jl.T.Imum Lueng Bta Km.3    Lueng Bata\n",
       "PT.Bona Parte Pratama    Jl. T. Dianjung No. 160 Keudah      Kutaraja\n",
       "T N T                   Jl. T. Nyak Arief Lingke B.Aceh    Syah Kuala\n",
       "X.Sys                        Jl. Panglima Polem No. 151      Kutaraja\n",
       "ESL                          Jl.T.Nyak Arief Banda Aceh    Syah Kuala"
      ]
     },
     "execution_count": 65,
     "metadata": {},
     "output_type": "execute_result"
    }
   ],
   "source": [
    "a.loc['PT.PCP' : 'ESL'] #Dari ... sampai ..."
   ]
  },
  {
   "cell_type": "code",
   "execution_count": 67,
   "metadata": {},
   "outputs": [
    {
     "data": {
      "text/html": [
       "<div>\n",
       "<style scoped>\n",
       "    .dataframe tbody tr th:only-of-type {\n",
       "        vertical-align: middle;\n",
       "    }\n",
       "\n",
       "    .dataframe tbody tr th {\n",
       "        vertical-align: top;\n",
       "    }\n",
       "\n",
       "    .dataframe thead th {\n",
       "        text-align: right;\n",
       "    }\n",
       "</style>\n",
       "<table border=\"1\" class=\"dataframe\">\n",
       "  <thead>\n",
       "    <tr style=\"text-align: right;\">\n",
       "      <th></th>\n",
       "      <th>alamat_perusahaan</th>\n",
       "      <th>kecamatan</th>\n",
       "    </tr>\n",
       "    <tr>\n",
       "      <th>nama_perusahaan</th>\n",
       "      <th></th>\n",
       "      <th></th>\n",
       "    </tr>\n",
       "  </thead>\n",
       "  <tbody>\n",
       "    <tr>\n",
       "      <th>PT. JNE (Jalur Nugraha Eka Kurir)</th>\n",
       "      <td>Jl. T. Imum Lueng Bata</td>\n",
       "      <td>Lueng Bata</td>\n",
       "    </tr>\n",
       "    <tr>\n",
       "      <th>PT. Pandu Siwi Sentosa</th>\n",
       "      <td>Jl. T. Imum Lueng Bata</td>\n",
       "      <td>Lueng Bata</td>\n",
       "    </tr>\n",
       "    <tr>\n",
       "      <th>CV. Titipan Kilat Banda Aceh</th>\n",
       "      <td>Jl. Panglima Polem No. 76 D</td>\n",
       "      <td>Kutaraja</td>\n",
       "    </tr>\n",
       "    <tr>\n",
       "      <th>PT. KGP (Kerta Gaya Pusaka)</th>\n",
       "      <td>Jl. Sultan Hotel No.6</td>\n",
       "      <td>Kutaraja</td>\n",
       "    </tr>\n",
       "    <tr>\n",
       "      <th>PT.PCP</th>\n",
       "      <td>Jl. T. Imum Lueng Bata No.16</td>\n",
       "      <td>Lueng Bata</td>\n",
       "    </tr>\n",
       "  </tbody>\n",
       "</table>\n",
       "</div>"
      ],
      "text/plain": [
       "                                              alamat_perusahaan   kecamatan\n",
       "nama_perusahaan                                                            \n",
       "PT. JNE (Jalur Nugraha Eka Kurir)        Jl. T. Imum Lueng Bata  Lueng Bata\n",
       "PT. Pandu Siwi Sentosa                   Jl. T. Imum Lueng Bata  Lueng Bata\n",
       "CV. Titipan Kilat Banda Aceh        Jl. Panglima Polem No. 76 D    Kutaraja\n",
       "PT. KGP (Kerta Gaya Pusaka)               Jl. Sultan Hotel No.6    Kutaraja\n",
       "PT.PCP                             Jl. T. Imum Lueng Bata No.16  Lueng Bata"
      ]
     },
     "execution_count": 67,
     "metadata": {},
     "output_type": "execute_result"
    }
   ],
   "source": [
    "a.loc[:'PT.PCP', 'alamat_perusahaan':'kecamatan'] #...akhir| dari...sampai...dalam kolom"
   ]
  },
  {
   "cell_type": "code",
   "execution_count": 69,
   "metadata": {},
   "outputs": [
    {
     "data": {
      "text/html": [
       "<div>\n",
       "<style scoped>\n",
       "    .dataframe tbody tr th:only-of-type {\n",
       "        vertical-align: middle;\n",
       "    }\n",
       "\n",
       "    .dataframe tbody tr th {\n",
       "        vertical-align: top;\n",
       "    }\n",
       "\n",
       "    .dataframe thead th {\n",
       "        text-align: right;\n",
       "    }\n",
       "</style>\n",
       "<table border=\"1\" class=\"dataframe\">\n",
       "  <thead>\n",
       "    <tr style=\"text-align: right;\">\n",
       "      <th></th>\n",
       "      <th>alamat_perusahaan</th>\n",
       "      <th>kecamatan</th>\n",
       "    </tr>\n",
       "    <tr>\n",
       "      <th>nama_perusahaan</th>\n",
       "      <th></th>\n",
       "      <th></th>\n",
       "    </tr>\n",
       "  </thead>\n",
       "  <tbody>\n",
       "    <tr>\n",
       "      <th>PT.PCP</th>\n",
       "      <td>Jl. T. Imum Lueng Bata No.16</td>\n",
       "      <td>Lueng Bata</td>\n",
       "    </tr>\n",
       "    <tr>\n",
       "      <th>PT. L T H</th>\n",
       "      <td>Jl. Imum Lueng Bata No.57</td>\n",
       "      <td>Lueng Bata</td>\n",
       "    </tr>\n",
       "    <tr>\n",
       "      <th>PT. Patra Jasa Marina</th>\n",
       "      <td>Jl. Sri Ratu Safiatuddin No.26</td>\n",
       "      <td>Kutaraja</td>\n",
       "    </tr>\n",
       "    <tr>\n",
       "      <th>PT. Hidup Bersaudara</th>\n",
       "      <td>Jl. T. Umar No. 94 Sukaramai</td>\n",
       "      <td>Baiturrahman</td>\n",
       "    </tr>\n",
       "    <tr>\n",
       "      <th>PT. Intrasco Kilat</th>\n",
       "      <td>Jl. STA. Mahmudsyah No.2</td>\n",
       "      <td>Baiturrahman</td>\n",
       "    </tr>\n",
       "    <tr>\n",
       "      <th>PT. Cepat Servis Sakti</th>\n",
       "      <td>Jl. T. Umar Banda Aceh</td>\n",
       "      <td>Baiturrahman</td>\n",
       "    </tr>\n",
       "    <tr>\n",
       "      <th>PT.NCS</th>\n",
       "      <td>Jl. T.Imum Lueng Bata</td>\n",
       "      <td>Lueng Bata</td>\n",
       "    </tr>\n",
       "    <tr>\n",
       "      <th>PT. Indah Cargo</th>\n",
       "      <td>Jl.T.Imum Lueng Bta Km.3</td>\n",
       "      <td>Lueng Bata</td>\n",
       "    </tr>\n",
       "    <tr>\n",
       "      <th>PT.Bona Parte Pratama</th>\n",
       "      <td>Jl. T. Dianjung No. 160 Keudah</td>\n",
       "      <td>Kutaraja</td>\n",
       "    </tr>\n",
       "    <tr>\n",
       "      <th>T N T</th>\n",
       "      <td>Jl. T. Nyak Arief Lingke B.Aceh</td>\n",
       "      <td>Syah Kuala</td>\n",
       "    </tr>\n",
       "    <tr>\n",
       "      <th>X.Sys</th>\n",
       "      <td>Jl. Panglima Polem No. 151</td>\n",
       "      <td>Kutaraja</td>\n",
       "    </tr>\n",
       "    <tr>\n",
       "      <th>ESL</th>\n",
       "      <td>Jl.T.Nyak Arief Banda Aceh</td>\n",
       "      <td>Syah Kuala</td>\n",
       "    </tr>\n",
       "    <tr>\n",
       "      <th>PT. Bex Cargo</th>\n",
       "      <td>Jl.Banda Aceh - Medan Km 4</td>\n",
       "      <td>NaN</td>\n",
       "    </tr>\n",
       "  </tbody>\n",
       "</table>\n",
       "</div>"
      ],
      "text/plain": [
       "                                      alamat_perusahaan     kecamatan\n",
       "nama_perusahaan                                                      \n",
       "PT.PCP                     Jl. T. Imum Lueng Bata No.16    Lueng Bata\n",
       "PT. L T H                     Jl. Imum Lueng Bata No.57    Lueng Bata\n",
       "PT. Patra Jasa Marina    Jl. Sri Ratu Safiatuddin No.26      Kutaraja\n",
       "PT. Hidup Bersaudara       Jl. T. Umar No. 94 Sukaramai  Baiturrahman\n",
       "PT. Intrasco Kilat             Jl. STA. Mahmudsyah No.2  Baiturrahman\n",
       "PT. Cepat Servis Sakti           Jl. T. Umar Banda Aceh  Baiturrahman\n",
       "PT.NCS                            Jl. T.Imum Lueng Bata    Lueng Bata\n",
       "PT. Indah Cargo                Jl.T.Imum Lueng Bta Km.3    Lueng Bata\n",
       "PT.Bona Parte Pratama    Jl. T. Dianjung No. 160 Keudah      Kutaraja\n",
       "T N T                   Jl. T. Nyak Arief Lingke B.Aceh    Syah Kuala\n",
       "X.Sys                        Jl. Panglima Polem No. 151      Kutaraja\n",
       "ESL                          Jl.T.Nyak Arief Banda Aceh    Syah Kuala\n",
       "PT. Bex Cargo                Jl.Banda Aceh - Medan Km 4           NaN"
      ]
     },
     "execution_count": 69,
     "metadata": {},
     "output_type": "execute_result"
    }
   ],
   "source": [
    "a.loc['PT.PCP':,:] #dari... sampai akhir"
   ]
  },
  {
   "cell_type": "code",
   "execution_count": 70,
   "metadata": {},
   "outputs": [
    {
     "data": {
      "text/html": [
       "<div>\n",
       "<style scoped>\n",
       "    .dataframe tbody tr th:only-of-type {\n",
       "        vertical-align: middle;\n",
       "    }\n",
       "\n",
       "    .dataframe tbody tr th {\n",
       "        vertical-align: top;\n",
       "    }\n",
       "\n",
       "    .dataframe thead th {\n",
       "        text-align: right;\n",
       "    }\n",
       "</style>\n",
       "<table border=\"1\" class=\"dataframe\">\n",
       "  <thead>\n",
       "    <tr style=\"text-align: right;\">\n",
       "      <th></th>\n",
       "      <th>alamat_perusahaan</th>\n",
       "      <th>kecamatan</th>\n",
       "    </tr>\n",
       "    <tr>\n",
       "      <th>nama_perusahaan</th>\n",
       "      <th></th>\n",
       "      <th></th>\n",
       "    </tr>\n",
       "  </thead>\n",
       "  <tbody>\n",
       "    <tr>\n",
       "      <th>PT. JNE (Jalur Nugraha Eka Kurir)</th>\n",
       "      <td>Jl. T. Imum Lueng Bata</td>\n",
       "      <td>Lueng Bata</td>\n",
       "    </tr>\n",
       "    <tr>\n",
       "      <th>PT. Pandu Siwi Sentosa</th>\n",
       "      <td>Jl. T. Imum Lueng Bata</td>\n",
       "      <td>Lueng Bata</td>\n",
       "    </tr>\n",
       "    <tr>\n",
       "      <th>CV. Titipan Kilat Banda Aceh</th>\n",
       "      <td>Jl. Panglima Polem No. 76 D</td>\n",
       "      <td>Kutaraja</td>\n",
       "    </tr>\n",
       "    <tr>\n",
       "      <th>PT. KGP (Kerta Gaya Pusaka)</th>\n",
       "      <td>Jl. Sultan Hotel No.6</td>\n",
       "      <td>Kutaraja</td>\n",
       "    </tr>\n",
       "    <tr>\n",
       "      <th>PT.PCP</th>\n",
       "      <td>Jl. T. Imum Lueng Bata No.16</td>\n",
       "      <td>Lueng Bata</td>\n",
       "    </tr>\n",
       "  </tbody>\n",
       "</table>\n",
       "</div>"
      ],
      "text/plain": [
       "                                              alamat_perusahaan   kecamatan\n",
       "nama_perusahaan                                                            \n",
       "PT. JNE (Jalur Nugraha Eka Kurir)        Jl. T. Imum Lueng Bata  Lueng Bata\n",
       "PT. Pandu Siwi Sentosa                   Jl. T. Imum Lueng Bata  Lueng Bata\n",
       "CV. Titipan Kilat Banda Aceh        Jl. Panglima Polem No. 76 D    Kutaraja\n",
       "PT. KGP (Kerta Gaya Pusaka)               Jl. Sultan Hotel No.6    Kutaraja\n",
       "PT.PCP                             Jl. T. Imum Lueng Bata No.16  Lueng Bata"
      ]
     },
     "execution_count": 70,
     "metadata": {},
     "output_type": "execute_result"
    }
   ],
   "source": [
    "a.loc[:'PT.PCP', ['alamat_perusahaan', 'kecamatan']] #sampai... dari kolom... dan ..."
   ]
  },
  {
   "cell_type": "code",
   "execution_count": 71,
   "metadata": {},
   "outputs": [],
   "source": [
    "lima_terakhir = a.iloc[-5:] #FILTERING"
   ]
  },
  {
   "cell_type": "code",
   "execution_count": 72,
   "metadata": {},
   "outputs": [
    {
     "data": {
      "text/html": [
       "<div>\n",
       "<style scoped>\n",
       "    .dataframe tbody tr th:only-of-type {\n",
       "        vertical-align: middle;\n",
       "    }\n",
       "\n",
       "    .dataframe tbody tr th {\n",
       "        vertical-align: top;\n",
       "    }\n",
       "\n",
       "    .dataframe thead th {\n",
       "        text-align: right;\n",
       "    }\n",
       "</style>\n",
       "<table border=\"1\" class=\"dataframe\">\n",
       "  <thead>\n",
       "    <tr style=\"text-align: right;\">\n",
       "      <th></th>\n",
       "      <th>alamat_perusahaan</th>\n",
       "      <th>kecamatan</th>\n",
       "    </tr>\n",
       "    <tr>\n",
       "      <th>nama_perusahaan</th>\n",
       "      <th></th>\n",
       "      <th></th>\n",
       "    </tr>\n",
       "  </thead>\n",
       "  <tbody>\n",
       "    <tr>\n",
       "      <th>PT.Bona Parte Pratama</th>\n",
       "      <td>Jl. T. Dianjung No. 160 Keudah</td>\n",
       "      <td>Kutaraja</td>\n",
       "    </tr>\n",
       "    <tr>\n",
       "      <th>T N T</th>\n",
       "      <td>Jl. T. Nyak Arief Lingke B.Aceh</td>\n",
       "      <td>Syah Kuala</td>\n",
       "    </tr>\n",
       "    <tr>\n",
       "      <th>X.Sys</th>\n",
       "      <td>Jl. Panglima Polem No. 151</td>\n",
       "      <td>Kutaraja</td>\n",
       "    </tr>\n",
       "    <tr>\n",
       "      <th>ESL</th>\n",
       "      <td>Jl.T.Nyak Arief Banda Aceh</td>\n",
       "      <td>Syah Kuala</td>\n",
       "    </tr>\n",
       "    <tr>\n",
       "      <th>PT. Bex Cargo</th>\n",
       "      <td>Jl.Banda Aceh - Medan Km 4</td>\n",
       "      <td>NaN</td>\n",
       "    </tr>\n",
       "  </tbody>\n",
       "</table>\n",
       "</div>"
      ],
      "text/plain": [
       "                                     alamat_perusahaan   kecamatan\n",
       "nama_perusahaan                                                   \n",
       "PT.Bona Parte Pratama   Jl. T. Dianjung No. 160 Keudah    Kutaraja\n",
       "T N T                  Jl. T. Nyak Arief Lingke B.Aceh  Syah Kuala\n",
       "X.Sys                       Jl. Panglima Polem No. 151    Kutaraja\n",
       "ESL                         Jl.T.Nyak Arief Banda Aceh  Syah Kuala\n",
       "PT. Bex Cargo               Jl.Banda Aceh - Medan Km 4         NaN"
      ]
     },
     "execution_count": 72,
     "metadata": {},
     "output_type": "execute_result"
    }
   ],
   "source": [
    "lima_terakhir"
   ]
  },
  {
   "cell_type": "code",
   "execution_count": 74,
   "metadata": {},
   "outputs": [],
   "source": [
    "#diatas_lima = lima_terakhir['kecamatan'] = \"Lueng Bata\" Gapaham"
   ]
  },
  {
   "cell_type": "code",
   "execution_count": 75,
   "metadata": {},
   "outputs": [
    {
     "data": {
      "text/html": [
       "<div>\n",
       "<style scoped>\n",
       "    .dataframe tbody tr th:only-of-type {\n",
       "        vertical-align: middle;\n",
       "    }\n",
       "\n",
       "    .dataframe tbody tr th {\n",
       "        vertical-align: top;\n",
       "    }\n",
       "\n",
       "    .dataframe thead th {\n",
       "        text-align: right;\n",
       "    }\n",
       "</style>\n",
       "<table border=\"1\" class=\"dataframe\">\n",
       "  <thead>\n",
       "    <tr style=\"text-align: right;\">\n",
       "      <th></th>\n",
       "      <th>alamat_perusahaan</th>\n",
       "      <th>kecamatan</th>\n",
       "    </tr>\n",
       "    <tr>\n",
       "      <th>nama_perusahaan</th>\n",
       "      <th></th>\n",
       "      <th></th>\n",
       "    </tr>\n",
       "  </thead>\n",
       "  <tbody>\n",
       "    <tr>\n",
       "      <th>PT. JNE (Jalur Nugraha Eka Kurir)</th>\n",
       "      <td>Jl. T. Imum Lueng Bata</td>\n",
       "      <td>Lueng Bata</td>\n",
       "    </tr>\n",
       "    <tr>\n",
       "      <th>PT. Pandu Siwi Sentosa</th>\n",
       "      <td>Jl. T. Imum Lueng Bata</td>\n",
       "      <td>Lueng Bata</td>\n",
       "    </tr>\n",
       "    <tr>\n",
       "      <th>CV. Titipan Kilat Banda Aceh</th>\n",
       "      <td>Jl. Panglima Polem No. 76 D</td>\n",
       "      <td>Kutaraja</td>\n",
       "    </tr>\n",
       "    <tr>\n",
       "      <th>PT. KGP (Kerta Gaya Pusaka)</th>\n",
       "      <td>Jl. Sultan Hotel No.6</td>\n",
       "      <td>Kutaraja</td>\n",
       "    </tr>\n",
       "    <tr>\n",
       "      <th>PT.PCP</th>\n",
       "      <td>Jl. T. Imum Lueng Bata No.16</td>\n",
       "      <td>Lueng Bata</td>\n",
       "    </tr>\n",
       "  </tbody>\n",
       "</table>\n",
       "</div>"
      ],
      "text/plain": [
       "                                              alamat_perusahaan   kecamatan\n",
       "nama_perusahaan                                                            \n",
       "PT. JNE (Jalur Nugraha Eka Kurir)        Jl. T. Imum Lueng Bata  Lueng Bata\n",
       "PT. Pandu Siwi Sentosa                   Jl. T. Imum Lueng Bata  Lueng Bata\n",
       "CV. Titipan Kilat Banda Aceh        Jl. Panglima Polem No. 76 D    Kutaraja\n",
       "PT. KGP (Kerta Gaya Pusaka)               Jl. Sultan Hotel No.6    Kutaraja\n",
       "PT.PCP                             Jl. T. Imum Lueng Bata No.16  Lueng Bata"
      ]
     },
     "execution_count": 75,
     "metadata": {},
     "output_type": "execute_result"
    }
   ],
   "source": [
    "a.head(5) #head"
   ]
  },
  {
   "cell_type": "code",
   "execution_count": 76,
   "metadata": {},
   "outputs": [
    {
     "data": {
      "text/html": [
       "<div>\n",
       "<style scoped>\n",
       "    .dataframe tbody tr th:only-of-type {\n",
       "        vertical-align: middle;\n",
       "    }\n",
       "\n",
       "    .dataframe tbody tr th {\n",
       "        vertical-align: top;\n",
       "    }\n",
       "\n",
       "    .dataframe thead th {\n",
       "        text-align: right;\n",
       "    }\n",
       "</style>\n",
       "<table border=\"1\" class=\"dataframe\">\n",
       "  <thead>\n",
       "    <tr style=\"text-align: right;\">\n",
       "      <th></th>\n",
       "      <th>alamat_perusahaan</th>\n",
       "      <th>kecamatan</th>\n",
       "    </tr>\n",
       "    <tr>\n",
       "      <th>nama_perusahaan</th>\n",
       "      <th></th>\n",
       "      <th></th>\n",
       "    </tr>\n",
       "  </thead>\n",
       "  <tbody>\n",
       "    <tr>\n",
       "      <th>PT. JNE (Jalur Nugraha Eka Kurir)</th>\n",
       "      <td>Jl. T. Imum Lueng Bata</td>\n",
       "      <td>Lueng Bata</td>\n",
       "    </tr>\n",
       "    <tr>\n",
       "      <th>PT. Pandu Siwi Sentosa</th>\n",
       "      <td>Jl. T. Imum Lueng Bata</td>\n",
       "      <td>Lueng Bata</td>\n",
       "    </tr>\n",
       "  </tbody>\n",
       "</table>\n",
       "</div>"
      ],
      "text/plain": [
       "                                        alamat_perusahaan   kecamatan\n",
       "nama_perusahaan                                                      \n",
       "PT. JNE (Jalur Nugraha Eka Kurir)  Jl. T. Imum Lueng Bata  Lueng Bata\n",
       "PT. Pandu Siwi Sentosa             Jl. T. Imum Lueng Bata  Lueng Bata"
      ]
     },
     "execution_count": 76,
     "metadata": {},
     "output_type": "execute_result"
    }
   ],
   "source": [
    "a.head(2)"
   ]
  },
  {
   "cell_type": "code",
   "execution_count": 77,
   "metadata": {},
   "outputs": [
    {
     "data": {
      "text/html": [
       "<div>\n",
       "<style scoped>\n",
       "    .dataframe tbody tr th:only-of-type {\n",
       "        vertical-align: middle;\n",
       "    }\n",
       "\n",
       "    .dataframe tbody tr th {\n",
       "        vertical-align: top;\n",
       "    }\n",
       "\n",
       "    .dataframe thead th {\n",
       "        text-align: right;\n",
       "    }\n",
       "</style>\n",
       "<table border=\"1\" class=\"dataframe\">\n",
       "  <thead>\n",
       "    <tr style=\"text-align: right;\">\n",
       "      <th></th>\n",
       "      <th>alamat_perusahaan</th>\n",
       "      <th>kecamatan</th>\n",
       "    </tr>\n",
       "    <tr>\n",
       "      <th>nama_perusahaan</th>\n",
       "      <th></th>\n",
       "      <th></th>\n",
       "    </tr>\n",
       "  </thead>\n",
       "  <tbody>\n",
       "    <tr>\n",
       "      <th>PT.Bona Parte Pratama</th>\n",
       "      <td>Jl. T. Dianjung No. 160 Keudah</td>\n",
       "      <td>Lueng Bata</td>\n",
       "    </tr>\n",
       "    <tr>\n",
       "      <th>T N T</th>\n",
       "      <td>Jl. T. Nyak Arief Lingke B.Aceh</td>\n",
       "      <td>Lueng Bata</td>\n",
       "    </tr>\n",
       "    <tr>\n",
       "      <th>X.Sys</th>\n",
       "      <td>Jl. Panglima Polem No. 151</td>\n",
       "      <td>Lueng Bata</td>\n",
       "    </tr>\n",
       "    <tr>\n",
       "      <th>ESL</th>\n",
       "      <td>Jl.T.Nyak Arief Banda Aceh</td>\n",
       "      <td>Lueng Bata</td>\n",
       "    </tr>\n",
       "    <tr>\n",
       "      <th>PT. Bex Cargo</th>\n",
       "      <td>Jl.Banda Aceh - Medan Km 4</td>\n",
       "      <td>Lueng Bata</td>\n",
       "    </tr>\n",
       "  </tbody>\n",
       "</table>\n",
       "</div>"
      ],
      "text/plain": [
       "                                     alamat_perusahaan   kecamatan\n",
       "nama_perusahaan                                                   \n",
       "PT.Bona Parte Pratama   Jl. T. Dianjung No. 160 Keudah  Lueng Bata\n",
       "T N T                  Jl. T. Nyak Arief Lingke B.Aceh  Lueng Bata\n",
       "X.Sys                       Jl. Panglima Polem No. 151  Lueng Bata\n",
       "ESL                         Jl.T.Nyak Arief Banda Aceh  Lueng Bata\n",
       "PT. Bex Cargo               Jl.Banda Aceh - Medan Km 4  Lueng Bata"
      ]
     },
     "execution_count": 77,
     "metadata": {},
     "output_type": "execute_result"
    }
   ],
   "source": [
    "a.tail()"
   ]
  },
  {
   "cell_type": "code",
   "execution_count": 78,
   "metadata": {},
   "outputs": [
    {
     "data": {
      "text/html": [
       "<div>\n",
       "<style scoped>\n",
       "    .dataframe tbody tr th:only-of-type {\n",
       "        vertical-align: middle;\n",
       "    }\n",
       "\n",
       "    .dataframe tbody tr th {\n",
       "        vertical-align: top;\n",
       "    }\n",
       "\n",
       "    .dataframe thead th {\n",
       "        text-align: right;\n",
       "    }\n",
       "</style>\n",
       "<table border=\"1\" class=\"dataframe\">\n",
       "  <thead>\n",
       "    <tr style=\"text-align: right;\">\n",
       "      <th></th>\n",
       "      <th>alamat_perusahaan</th>\n",
       "      <th>kecamatan</th>\n",
       "    </tr>\n",
       "    <tr>\n",
       "      <th>nama_perusahaan</th>\n",
       "      <th></th>\n",
       "      <th></th>\n",
       "    </tr>\n",
       "  </thead>\n",
       "  <tbody>\n",
       "    <tr>\n",
       "      <th>X.Sys</th>\n",
       "      <td>Jl. Panglima Polem No. 151</td>\n",
       "      <td>Lueng Bata</td>\n",
       "    </tr>\n",
       "    <tr>\n",
       "      <th>ESL</th>\n",
       "      <td>Jl.T.Nyak Arief Banda Aceh</td>\n",
       "      <td>Lueng Bata</td>\n",
       "    </tr>\n",
       "    <tr>\n",
       "      <th>PT. Bex Cargo</th>\n",
       "      <td>Jl.Banda Aceh - Medan Km 4</td>\n",
       "      <td>Lueng Bata</td>\n",
       "    </tr>\n",
       "  </tbody>\n",
       "</table>\n",
       "</div>"
      ],
      "text/plain": [
       "                          alamat_perusahaan   kecamatan\n",
       "nama_perusahaan                                        \n",
       "X.Sys            Jl. Panglima Polem No. 151  Lueng Bata\n",
       "ESL              Jl.T.Nyak Arief Banda Aceh  Lueng Bata\n",
       "PT. Bex Cargo    Jl.Banda Aceh - Medan Km 4  Lueng Bata"
      ]
     },
     "execution_count": 78,
     "metadata": {},
     "output_type": "execute_result"
    }
   ],
   "source": [
    "a.tail(3) #ambil data dari bawah"
   ]
  },
  {
   "cell_type": "code",
   "execution_count": 79,
   "metadata": {},
   "outputs": [
    {
     "name": "stdout",
     "output_type": "stream",
     "text": [
      "<class 'pandas.core.frame.DataFrame'>\n",
      "Index: 17 entries, PT. JNE (Jalur Nugraha Eka Kurir) to PT. Bex Cargo\n",
      "Data columns (total 2 columns):\n",
      " #   Column             Non-Null Count  Dtype \n",
      "---  ------             --------------  ----- \n",
      " 0   alamat_perusahaan  17 non-null     object\n",
      " 1   kecamatan          17 non-null     object\n",
      "dtypes: object(2)\n",
      "memory usage: 1.0+ KB\n"
     ]
    }
   ],
   "source": [
    "a.info()"
   ]
  },
  {
   "cell_type": "code",
   "execution_count": 81,
   "metadata": {},
   "outputs": [],
   "source": [
    "kecamatan = a['kecamatan'] #Series"
   ]
  },
  {
   "cell_type": "code",
   "execution_count": 82,
   "metadata": {},
   "outputs": [
    {
     "data": {
      "text/plain": [
       "pandas.core.series.Series"
      ]
     },
     "execution_count": 82,
     "metadata": {},
     "output_type": "execute_result"
    }
   ],
   "source": [
    "type(kecamatan)"
   ]
  },
  {
   "cell_type": "code",
   "execution_count": 83,
   "metadata": {},
   "outputs": [
    {
     "data": {
      "text/plain": [
       "nama_perusahaan\n",
       "PT. JNE (Jalur Nugraha Eka Kurir)    Lueng Bata\n",
       "PT. Pandu Siwi Sentosa               Lueng Bata\n",
       "CV. Titipan Kilat Banda Aceh           Kutaraja\n",
       "PT. KGP (Kerta Gaya Pusaka)            Kutaraja\n",
       "PT.PCP                               Lueng Bata\n",
       "Name: kecamatan, dtype: object"
      ]
     },
     "execution_count": 83,
     "metadata": {},
     "output_type": "execute_result"
    }
   ],
   "source": [
    "kecamatan.head()"
   ]
  },
  {
   "cell_type": "code",
   "execution_count": 86,
   "metadata": {},
   "outputs": [],
   "source": [
    "import matplotlib.pyplot as plt #ploting data series dengan matplotlib\n"
   ]
  },
  {
   "cell_type": "code",
   "execution_count": 85,
   "metadata": {},
   "outputs": [
    {
     "data": {
      "text/html": [
       "<div>\n",
       "<style scoped>\n",
       "    .dataframe tbody tr th:only-of-type {\n",
       "        vertical-align: middle;\n",
       "    }\n",
       "\n",
       "    .dataframe tbody tr th {\n",
       "        vertical-align: top;\n",
       "    }\n",
       "\n",
       "    .dataframe thead th {\n",
       "        text-align: right;\n",
       "    }\n",
       "</style>\n",
       "<table border=\"1\" class=\"dataframe\">\n",
       "  <thead>\n",
       "    <tr style=\"text-align: right;\">\n",
       "      <th></th>\n",
       "      <th>alamat_perusahaan</th>\n",
       "      <th>kecamatan</th>\n",
       "    </tr>\n",
       "    <tr>\n",
       "      <th>nama_perusahaan</th>\n",
       "      <th></th>\n",
       "      <th></th>\n",
       "    </tr>\n",
       "  </thead>\n",
       "  <tbody>\n",
       "    <tr>\n",
       "      <th>PT. JNE (Jalur Nugraha Eka Kurir)</th>\n",
       "      <td>Jl. T. Imum Lueng Bata</td>\n",
       "      <td>Lueng Bata</td>\n",
       "    </tr>\n",
       "    <tr>\n",
       "      <th>PT. Pandu Siwi Sentosa</th>\n",
       "      <td>Jl. T. Imum Lueng Bata</td>\n",
       "      <td>Lueng Bata</td>\n",
       "    </tr>\n",
       "    <tr>\n",
       "      <th>CV. Titipan Kilat Banda Aceh</th>\n",
       "      <td>Jl. Panglima Polem No. 76 D</td>\n",
       "      <td>Kutaraja</td>\n",
       "    </tr>\n",
       "    <tr>\n",
       "      <th>PT. KGP (Kerta Gaya Pusaka)</th>\n",
       "      <td>Jl. Sultan Hotel No.6</td>\n",
       "      <td>Kutaraja</td>\n",
       "    </tr>\n",
       "    <tr>\n",
       "      <th>PT.PCP</th>\n",
       "      <td>Jl. T. Imum Lueng Bata No.16</td>\n",
       "      <td>Lueng Bata</td>\n",
       "    </tr>\n",
       "  </tbody>\n",
       "</table>\n",
       "</div>"
      ],
      "text/plain": [
       "                                              alamat_perusahaan   kecamatan\n",
       "nama_perusahaan                                                            \n",
       "PT. JNE (Jalur Nugraha Eka Kurir)        Jl. T. Imum Lueng Bata  Lueng Bata\n",
       "PT. Pandu Siwi Sentosa                   Jl. T. Imum Lueng Bata  Lueng Bata\n",
       "CV. Titipan Kilat Banda Aceh        Jl. Panglima Polem No. 76 D    Kutaraja\n",
       "PT. KGP (Kerta Gaya Pusaka)               Jl. Sultan Hotel No.6    Kutaraja\n",
       "PT.PCP                             Jl. T. Imum Lueng Bata No.16  Lueng Bata"
      ]
     },
     "execution_count": 85,
     "metadata": {},
     "output_type": "execute_result"
    }
   ],
   "source": [
    "a.head()"
   ]
  },
  {
   "cell_type": "code",
   "execution_count": 96,
   "metadata": {},
   "outputs": [],
   "source": [
    "kecamatan = a['kecamatan']"
   ]
  },
  {
   "cell_type": "code",
   "execution_count": 97,
   "metadata": {},
   "outputs": [
    {
     "data": {
      "text/plain": [
       "[<matplotlib.lines.Line2D at 0x1f7410fc688>]"
      ]
     },
     "execution_count": 97,
     "metadata": {},
     "output_type": "execute_result"
    },
    {
     "data": {
      "image/png": "[encoded data removed]",
      "text/plain": [
       "<Figure size 576x396 with 1 Axes>"
      ]
     },
     "metadata": {},
     "output_type": "display_data"
    }
   ],
   "source": [
    "plt.plot(kecamatan)"
   ]
  },
  {
   "cell_type": "code",
   "execution_count": 90,
   "metadata": {},
   "outputs": [],
   "source": [
    "plt.style.use('fivethirtyeight')"
   ]
  },
  {
   "cell_type": "code",
   "execution_count": 91,
   "metadata": {},
   "outputs": [
    {
     "data": {
      "text/plain": [
       "[<matplotlib.lines.Line2D at 0x1f741c280c8>]"
      ]
     },
     "execution_count": 91,
     "metadata": {},
     "output_type": "execute_result"
    },
    {
     "data": {
      "image/png": "[encoded data removed]",
      "text/plain": [
       "<Figure size 432x288 with 1 Axes>"
      ]
     },
     "metadata": {},
     "output_type": "display_data"
    }
   ],
   "source": [
    "plt.plot(kecamatan)"
   ]
  },
  {
   "cell_type": "code",
   "execution_count": 93,
   "metadata": {},
   "outputs": [
    {
     "data": {
      "text/plain": [
       "[<matplotlib.lines.Line2D at 0x1f741c9e608>]"
      ]
     },
     "execution_count": 93,
     "metadata": {},
     "output_type": "execute_result"
    },
    {
     "data": {
      "image/png": "[encoded data removed]",
      "text/plain": [
       "<Figure size 576x396 with 1 Axes>"
      ]
     },
     "metadata": {},
     "output_type": "display_data"
    }
   ],
   "source": [
    "plt.style.use('seaborn')\n",
    "plt.plot(kecamatan)"
   ]
  },
  {
   "cell_type": "code",
   "execution_count": 99,
   "metadata": {},
   "outputs": [],
   "source": [
    "#a['kecamatan'].plot() apakah harus angka input data nya?"
   ]
  },
  {
   "cell_type": "code",
   "execution_count": 100,
   "metadata": {},
   "outputs": [
    {
     "ename": "TypeError",
     "evalue": "unhashable type: 'numpy.ndarray'",
     "output_type": "error",
     "traceback": [
      "\u001b[1;31m---------------------------------------------------------------------------\u001b[0m",
      "\u001b[1;31mTypeError\u001b[0m                                 Traceback (most recent call last)",
      "\u001b[1;32m<ipython-input-100-adbaf25c868f>\u001b[0m in \u001b[0;36m<module>\u001b[1;34m\u001b[0m\n\u001b[1;32m----> 1\u001b[1;33m \u001b[0mplt\u001b[0m\u001b[1;33m.\u001b[0m\u001b[0mplot\u001b[0m\u001b[1;33m(\u001b[0m\u001b[0ma\u001b[0m\u001b[1;33m)\u001b[0m\u001b[1;33m\u001b[0m\u001b[1;33m\u001b[0m\u001b[0m\n\u001b[0m",
      "\u001b[1;32m~\\anaconda3\\lib\\site-packages\\matplotlib\\pyplot.py\u001b[0m in \u001b[0;36mplot\u001b[1;34m(scalex, scaley, data, *args, **kwargs)\u001b[0m\n\u001b[0;32m   2794\u001b[0m     return gca().plot(\n\u001b[0;32m   2795\u001b[0m         *args, scalex=scalex, scaley=scaley, **({\"data\": data} if data\n\u001b[1;32m-> 2796\u001b[1;33m         is not None else {}), **kwargs)\n\u001b[0m\u001b[0;32m   2797\u001b[0m \u001b[1;33m\u001b[0m\u001b[0m\n\u001b[0;32m   2798\u001b[0m \u001b[1;33m\u001b[0m\u001b[0m\n",
      "\u001b[1;32m~\\anaconda3\\lib\\site-packages\\matplotlib\\axes\\_axes.py\u001b[0m in \u001b[0;36mplot\u001b[1;34m(self, scalex, scaley, data, *args, **kwargs)\u001b[0m\n\u001b[0;32m   1663\u001b[0m         \"\"\"\n\u001b[0;32m   1664\u001b[0m         \u001b[0mkwargs\u001b[0m \u001b[1;33m=\u001b[0m \u001b[0mcbook\u001b[0m\u001b[1;33m.\u001b[0m\u001b[0mnormalize_kwargs\u001b[0m\u001b[1;33m(\u001b[0m\u001b[0mkwargs\u001b[0m\u001b[1;33m,\u001b[0m \u001b[0mmlines\u001b[0m\u001b[1;33m.\u001b[0m\u001b[0mLine2D\u001b[0m\u001b[1;33m.\u001b[0m\u001b[0m_alias_map\u001b[0m\u001b[1;33m)\u001b[0m\u001b[1;33m\u001b[0m\u001b[1;33m\u001b[0m\u001b[0m\n\u001b[1;32m-> 1665\u001b[1;33m         \u001b[0mlines\u001b[0m \u001b[1;33m=\u001b[0m \u001b[1;33m[\u001b[0m\u001b[1;33m*\u001b[0m\u001b[0mself\u001b[0m\u001b[1;33m.\u001b[0m\u001b[0m_get_lines\u001b[0m\u001b[1;33m(\u001b[0m\u001b[1;33m*\u001b[0m\u001b[0margs\u001b[0m\u001b[1;33m,\u001b[0m \u001b[0mdata\u001b[0m\u001b[1;33m=\u001b[0m\u001b[0mdata\u001b[0m\u001b[1;33m,\u001b[0m \u001b[1;33m**\u001b[0m\u001b[0mkwargs\u001b[0m\u001b[1;33m)\u001b[0m\u001b[1;33m]\u001b[0m\u001b[1;33m\u001b[0m\u001b[1;33m\u001b[0m\u001b[0m\n\u001b[0m\u001b[0;32m   1666\u001b[0m         \u001b[1;32mfor\u001b[0m \u001b[0mline\u001b[0m \u001b[1;32min\u001b[0m \u001b[0mlines\u001b[0m\u001b[1;33m:\u001b[0m\u001b[1;33m\u001b[0m\u001b[1;33m\u001b[0m\u001b[0m\n\u001b[0;32m   1667\u001b[0m             \u001b[0mself\u001b[0m\u001b[1;33m.\u001b[0m\u001b[0madd_line\u001b[0m\u001b[1;33m(\u001b[0m\u001b[0mline\u001b[0m\u001b[1;33m)\u001b[0m\u001b[1;33m\u001b[0m\u001b[1;33m\u001b[0m\u001b[0m\n",
      "\u001b[1;32m~\\anaconda3\\lib\\site-packages\\matplotlib\\axes\\_base.py\u001b[0m in \u001b[0;36m__call__\u001b[1;34m(self, *args, **kwargs)\u001b[0m\n\u001b[0;32m    223\u001b[0m                 \u001b[0mthis\u001b[0m \u001b[1;33m+=\u001b[0m \u001b[0margs\u001b[0m\u001b[1;33m[\u001b[0m\u001b[1;36m0\u001b[0m\u001b[1;33m]\u001b[0m\u001b[1;33m,\u001b[0m\u001b[1;33m\u001b[0m\u001b[1;33m\u001b[0m\u001b[0m\n\u001b[0;32m    224\u001b[0m                 \u001b[0margs\u001b[0m \u001b[1;33m=\u001b[0m \u001b[0margs\u001b[0m\u001b[1;33m[\u001b[0m\u001b[1;36m1\u001b[0m\u001b[1;33m:\u001b[0m\u001b[1;33m]\u001b[0m\u001b[1;33m\u001b[0m\u001b[1;33m\u001b[0m\u001b[0m\n\u001b[1;32m--> 225\u001b[1;33m             \u001b[1;32myield\u001b[0m \u001b[1;32mfrom\u001b[0m \u001b[0mself\u001b[0m\u001b[1;33m.\u001b[0m\u001b[0m_plot_args\u001b[0m\u001b[1;33m(\u001b[0m\u001b[0mthis\u001b[0m\u001b[1;33m,\u001b[0m \u001b[0mkwargs\u001b[0m\u001b[1;33m)\u001b[0m\u001b[1;33m\u001b[0m\u001b[1;33m\u001b[0m\u001b[0m\n\u001b[0m\u001b[0;32m    226\u001b[0m \u001b[1;33m\u001b[0m\u001b[0m\n\u001b[0;32m    227\u001b[0m     \u001b[1;32mdef\u001b[0m \u001b[0mget_next_color\u001b[0m\u001b[1;33m(\u001b[0m\u001b[0mself\u001b[0m\u001b[1;33m)\u001b[0m\u001b[1;33m:\u001b[0m\u001b[1;33m\u001b[0m\u001b[1;33m\u001b[0m\u001b[0m\n",
      "\u001b[1;32m~\\anaconda3\\lib\\site-packages\\matplotlib\\axes\\_base.py\u001b[0m in \u001b[0;36m_plot_args\u001b[1;34m(self, tup, kwargs)\u001b[0m\n\u001b[0;32m    389\u001b[0m             \u001b[0mx\u001b[0m\u001b[1;33m,\u001b[0m \u001b[0my\u001b[0m \u001b[1;33m=\u001b[0m \u001b[0mindex_of\u001b[0m\u001b[1;33m(\u001b[0m\u001b[0mtup\u001b[0m\u001b[1;33m[\u001b[0m\u001b[1;33m-\u001b[0m\u001b[1;36m1\u001b[0m\u001b[1;33m]\u001b[0m\u001b[1;33m)\u001b[0m\u001b[1;33m\u001b[0m\u001b[1;33m\u001b[0m\u001b[0m\n\u001b[0;32m    390\u001b[0m \u001b[1;33m\u001b[0m\u001b[0m\n\u001b[1;32m--> 391\u001b[1;33m         \u001b[0mx\u001b[0m\u001b[1;33m,\u001b[0m \u001b[0my\u001b[0m \u001b[1;33m=\u001b[0m \u001b[0mself\u001b[0m\u001b[1;33m.\u001b[0m\u001b[0m_xy_from_xy\u001b[0m\u001b[1;33m(\u001b[0m\u001b[0mx\u001b[0m\u001b[1;33m,\u001b[0m \u001b[0my\u001b[0m\u001b[1;33m)\u001b[0m\u001b[1;33m\u001b[0m\u001b[1;33m\u001b[0m\u001b[0m\n\u001b[0m\u001b[0;32m    392\u001b[0m \u001b[1;33m\u001b[0m\u001b[0m\n\u001b[0;32m    393\u001b[0m         \u001b[1;32mif\u001b[0m \u001b[0mself\u001b[0m\u001b[1;33m.\u001b[0m\u001b[0mcommand\u001b[0m \u001b[1;33m==\u001b[0m \u001b[1;34m'plot'\u001b[0m\u001b[1;33m:\u001b[0m\u001b[1;33m\u001b[0m\u001b[1;33m\u001b[0m\u001b[0m\n",
      "\u001b[1;32m~\\anaconda3\\lib\\site-packages\\matplotlib\\axes\\_base.py\u001b[0m in \u001b[0;36m_xy_from_xy\u001b[1;34m(self, x, y)\u001b[0m\n\u001b[0;32m    242\u001b[0m         \u001b[1;32mif\u001b[0m \u001b[0mself\u001b[0m\u001b[1;33m.\u001b[0m\u001b[0maxes\u001b[0m\u001b[1;33m.\u001b[0m\u001b[0mxaxis\u001b[0m \u001b[1;32mis\u001b[0m \u001b[1;32mnot\u001b[0m \u001b[1;32mNone\u001b[0m \u001b[1;32mand\u001b[0m \u001b[0mself\u001b[0m\u001b[1;33m.\u001b[0m\u001b[0maxes\u001b[0m\u001b[1;33m.\u001b[0m\u001b[0myaxis\u001b[0m \u001b[1;32mis\u001b[0m \u001b[1;32mnot\u001b[0m \u001b[1;32mNone\u001b[0m\u001b[1;33m:\u001b[0m\u001b[1;33m\u001b[0m\u001b[1;33m\u001b[0m\u001b[0m\n\u001b[0;32m    243\u001b[0m             \u001b[0mbx\u001b[0m \u001b[1;33m=\u001b[0m \u001b[0mself\u001b[0m\u001b[1;33m.\u001b[0m\u001b[0maxes\u001b[0m\u001b[1;33m.\u001b[0m\u001b[0mxaxis\u001b[0m\u001b[1;33m.\u001b[0m\u001b[0mupdate_units\u001b[0m\u001b[1;33m(\u001b[0m\u001b[0mx\u001b[0m\u001b[1;33m)\u001b[0m\u001b[1;33m\u001b[0m\u001b[1;33m\u001b[0m\u001b[0m\n\u001b[1;32m--> 244\u001b[1;33m             \u001b[0mby\u001b[0m \u001b[1;33m=\u001b[0m \u001b[0mself\u001b[0m\u001b[1;33m.\u001b[0m\u001b[0maxes\u001b[0m\u001b[1;33m.\u001b[0m\u001b[0myaxis\u001b[0m\u001b[1;33m.\u001b[0m\u001b[0mupdate_units\u001b[0m\u001b[1;33m(\u001b[0m\u001b[0my\u001b[0m\u001b[1;33m)\u001b[0m\u001b[1;33m\u001b[0m\u001b[1;33m\u001b[0m\u001b[0m\n\u001b[0m\u001b[0;32m    245\u001b[0m \u001b[1;33m\u001b[0m\u001b[0m\n\u001b[0;32m    246\u001b[0m             \u001b[1;32mif\u001b[0m \u001b[0mself\u001b[0m\u001b[1;33m.\u001b[0m\u001b[0mcommand\u001b[0m \u001b[1;33m!=\u001b[0m \u001b[1;34m'plot'\u001b[0m\u001b[1;33m:\u001b[0m\u001b[1;33m\u001b[0m\u001b[1;33m\u001b[0m\u001b[0m\n",
      "\u001b[1;32m~\\anaconda3\\lib\\site-packages\\matplotlib\\axis.py\u001b[0m in \u001b[0;36mupdate_units\u001b[1;34m(self, data)\u001b[0m\n\u001b[0;32m   1491\u001b[0m         \u001b[0mneednew\u001b[0m \u001b[1;33m=\u001b[0m \u001b[0mself\u001b[0m\u001b[1;33m.\u001b[0m\u001b[0mconverter\u001b[0m \u001b[1;33m!=\u001b[0m \u001b[0mconverter\u001b[0m\u001b[1;33m\u001b[0m\u001b[1;33m\u001b[0m\u001b[0m\n\u001b[0;32m   1492\u001b[0m         \u001b[0mself\u001b[0m\u001b[1;33m.\u001b[0m\u001b[0mconverter\u001b[0m \u001b[1;33m=\u001b[0m \u001b[0mconverter\u001b[0m\u001b[1;33m\u001b[0m\u001b[1;33m\u001b[0m\u001b[0m\n\u001b[1;32m-> 1493\u001b[1;33m         \u001b[0mdefault\u001b[0m \u001b[1;33m=\u001b[0m \u001b[0mself\u001b[0m\u001b[1;33m.\u001b[0m\u001b[0mconverter\u001b[0m\u001b[1;33m.\u001b[0m\u001b[0mdefault_units\u001b[0m\u001b[1;33m(\u001b[0m\u001b[0mdata\u001b[0m\u001b[1;33m,\u001b[0m \u001b[0mself\u001b[0m\u001b[1;33m)\u001b[0m\u001b[1;33m\u001b[0m\u001b[1;33m\u001b[0m\u001b[0m\n\u001b[0m\u001b[0;32m   1494\u001b[0m         \u001b[1;32mif\u001b[0m \u001b[0mdefault\u001b[0m \u001b[1;32mis\u001b[0m \u001b[1;32mnot\u001b[0m \u001b[1;32mNone\u001b[0m \u001b[1;32mand\u001b[0m \u001b[0mself\u001b[0m\u001b[1;33m.\u001b[0m\u001b[0munits\u001b[0m \u001b[1;32mis\u001b[0m \u001b[1;32mNone\u001b[0m\u001b[1;33m:\u001b[0m\u001b[1;33m\u001b[0m\u001b[1;33m\u001b[0m\u001b[0m\n\u001b[0;32m   1495\u001b[0m             \u001b[0mself\u001b[0m\u001b[1;33m.\u001b[0m\u001b[0mset_units\u001b[0m\u001b[1;33m(\u001b[0m\u001b[0mdefault\u001b[0m\u001b[1;33m)\u001b[0m\u001b[1;33m\u001b[0m\u001b[1;33m\u001b[0m\u001b[0m\n",
      "\u001b[1;32m~\\anaconda3\\lib\\site-packages\\matplotlib\\category.py\u001b[0m in \u001b[0;36mdefault_units\u001b[1;34m(data, axis)\u001b[0m\n\u001b[0;32m    113\u001b[0m         \u001b[1;31m# default_units->axis_info->convert\u001b[0m\u001b[1;33m\u001b[0m\u001b[1;33m\u001b[0m\u001b[1;33m\u001b[0m\u001b[0m\n\u001b[0;32m    114\u001b[0m         \u001b[1;32mif\u001b[0m \u001b[0maxis\u001b[0m\u001b[1;33m.\u001b[0m\u001b[0munits\u001b[0m \u001b[1;32mis\u001b[0m \u001b[1;32mNone\u001b[0m\u001b[1;33m:\u001b[0m\u001b[1;33m\u001b[0m\u001b[1;33m\u001b[0m\u001b[0m\n\u001b[1;32m--> 115\u001b[1;33m             \u001b[0maxis\u001b[0m\u001b[1;33m.\u001b[0m\u001b[0mset_units\u001b[0m\u001b[1;33m(\u001b[0m\u001b[0mUnitData\u001b[0m\u001b[1;33m(\u001b[0m\u001b[0mdata\u001b[0m\u001b[1;33m)\u001b[0m\u001b[1;33m)\u001b[0m\u001b[1;33m\u001b[0m\u001b[1;33m\u001b[0m\u001b[0m\n\u001b[0m\u001b[0;32m    116\u001b[0m         \u001b[1;32melse\u001b[0m\u001b[1;33m:\u001b[0m\u001b[1;33m\u001b[0m\u001b[1;33m\u001b[0m\u001b[0m\n\u001b[0;32m    117\u001b[0m             \u001b[0maxis\u001b[0m\u001b[1;33m.\u001b[0m\u001b[0munits\u001b[0m\u001b[1;33m.\u001b[0m\u001b[0mupdate\u001b[0m\u001b[1;33m(\u001b[0m\u001b[0mdata\u001b[0m\u001b[1;33m)\u001b[0m\u001b[1;33m\u001b[0m\u001b[1;33m\u001b[0m\u001b[0m\n",
      "\u001b[1;32m~\\anaconda3\\lib\\site-packages\\matplotlib\\category.py\u001b[0m in \u001b[0;36m__init__\u001b[1;34m(self, data)\u001b[0m\n\u001b[0;32m    179\u001b[0m         \u001b[0mself\u001b[0m\u001b[1;33m.\u001b[0m\u001b[0m_counter\u001b[0m \u001b[1;33m=\u001b[0m \u001b[0mitertools\u001b[0m\u001b[1;33m.\u001b[0m\u001b[0mcount\u001b[0m\u001b[1;33m(\u001b[0m\u001b[1;33m)\u001b[0m\u001b[1;33m\u001b[0m\u001b[1;33m\u001b[0m\u001b[0m\n\u001b[0;32m    180\u001b[0m         \u001b[1;32mif\u001b[0m \u001b[0mdata\u001b[0m \u001b[1;32mis\u001b[0m \u001b[1;32mnot\u001b[0m \u001b[1;32mNone\u001b[0m\u001b[1;33m:\u001b[0m\u001b[1;33m\u001b[0m\u001b[1;33m\u001b[0m\u001b[0m\n\u001b[1;32m--> 181\u001b[1;33m             \u001b[0mself\u001b[0m\u001b[1;33m.\u001b[0m\u001b[0mupdate\u001b[0m\u001b[1;33m(\u001b[0m\u001b[0mdata\u001b[0m\u001b[1;33m)\u001b[0m\u001b[1;33m\u001b[0m\u001b[1;33m\u001b[0m\u001b[0m\n\u001b[0m\u001b[0;32m    182\u001b[0m \u001b[1;33m\u001b[0m\u001b[0m\n\u001b[0;32m    183\u001b[0m     \u001b[1;33m@\u001b[0m\u001b[0mstaticmethod\u001b[0m\u001b[1;33m\u001b[0m\u001b[1;33m\u001b[0m\u001b[0m\n",
      "\u001b[1;32m~\\anaconda3\\lib\\site-packages\\matplotlib\\category.py\u001b[0m in \u001b[0;36mupdate\u001b[1;34m(self, data)\u001b[0m\n\u001b[0;32m    214\u001b[0m         \u001b[1;31m# check if convertible to number:\u001b[0m\u001b[1;33m\u001b[0m\u001b[1;33m\u001b[0m\u001b[1;33m\u001b[0m\u001b[0m\n\u001b[0;32m    215\u001b[0m         \u001b[0mconvertible\u001b[0m \u001b[1;33m=\u001b[0m \u001b[1;32mTrue\u001b[0m\u001b[1;33m\u001b[0m\u001b[1;33m\u001b[0m\u001b[0m\n\u001b[1;32m--> 216\u001b[1;33m         \u001b[1;32mfor\u001b[0m \u001b[0mval\u001b[0m \u001b[1;32min\u001b[0m \u001b[0mOrderedDict\u001b[0m\u001b[1;33m.\u001b[0m\u001b[0mfromkeys\u001b[0m\u001b[1;33m(\u001b[0m\u001b[0mdata\u001b[0m\u001b[1;33m)\u001b[0m\u001b[1;33m:\u001b[0m\u001b[1;33m\u001b[0m\u001b[1;33m\u001b[0m\u001b[0m\n\u001b[0m\u001b[0;32m    217\u001b[0m             \u001b[1;31m# OrderedDict just iterates over unique values in data.\u001b[0m\u001b[1;33m\u001b[0m\u001b[1;33m\u001b[0m\u001b[1;33m\u001b[0m\u001b[0m\n\u001b[0;32m    218\u001b[0m             \u001b[1;32mif\u001b[0m \u001b[1;32mnot\u001b[0m \u001b[0misinstance\u001b[0m\u001b[1;33m(\u001b[0m\u001b[0mval\u001b[0m\u001b[1;33m,\u001b[0m \u001b[1;33m(\u001b[0m\u001b[0mstr\u001b[0m\u001b[1;33m,\u001b[0m \u001b[0mbytes\u001b[0m\u001b[1;33m)\u001b[0m\u001b[1;33m)\u001b[0m\u001b[1;33m:\u001b[0m\u001b[1;33m\u001b[0m\u001b[1;33m\u001b[0m\u001b[0m\n",
      "\u001b[1;31mTypeError\u001b[0m: unhashable type: 'numpy.ndarray'"
     ]
    },
    {
     "data": {
      "image/png": "[encoded data removed]",
      "text/plain": [
       "<Figure size 576x396 with 1 Axes>"
      ]
     },
     "metadata": {},
     "output_type": "display_data"
    }
   ],
   "source": [
    "plt.plot(a)"
   ]
  },
  {
   "cell_type": "code",
   "execution_count": 101,
   "metadata": {},
   "outputs": [
    {
     "ename": "TypeError",
     "evalue": "no numeric data to plot",
     "output_type": "error",
     "traceback": [
      "\u001b[1;31m---------------------------------------------------------------------------\u001b[0m",
      "\u001b[1;31mTypeError\u001b[0m                                 Traceback (most recent call last)",
      "\u001b[1;32m<ipython-input-101-61464571263d>\u001b[0m in \u001b[0;36m<module>\u001b[1;34m\u001b[0m\n\u001b[1;32m----> 1\u001b[1;33m \u001b[0ma\u001b[0m\u001b[1;33m.\u001b[0m\u001b[0mplot\u001b[0m\u001b[1;33m(\u001b[0m\u001b[1;33m)\u001b[0m\u001b[1;33m\u001b[0m\u001b[1;33m\u001b[0m\u001b[0m\n\u001b[0m",
      "\u001b[1;32m~\\anaconda3\\lib\\site-packages\\pandas\\plotting\\_core.py\u001b[0m in \u001b[0;36m__call__\u001b[1;34m(self, *args, **kwargs)\u001b[0m\n\u001b[0;32m    845\u001b[0m                     \u001b[0mdata\u001b[0m\u001b[1;33m.\u001b[0m\u001b[0mcolumns\u001b[0m \u001b[1;33m=\u001b[0m \u001b[0mlabel_name\u001b[0m\u001b[1;33m\u001b[0m\u001b[1;33m\u001b[0m\u001b[0m\n\u001b[0;32m    846\u001b[0m \u001b[1;33m\u001b[0m\u001b[0m\n\u001b[1;32m--> 847\u001b[1;33m         \u001b[1;32mreturn\u001b[0m \u001b[0mplot_backend\u001b[0m\u001b[1;33m.\u001b[0m\u001b[0mplot\u001b[0m\u001b[1;33m(\u001b[0m\u001b[0mdata\u001b[0m\u001b[1;33m,\u001b[0m \u001b[0mkind\u001b[0m\u001b[1;33m=\u001b[0m\u001b[0mkind\u001b[0m\u001b[1;33m,\u001b[0m \u001b[1;33m**\u001b[0m\u001b[0mkwargs\u001b[0m\u001b[1;33m)\u001b[0m\u001b[1;33m\u001b[0m\u001b[1;33m\u001b[0m\u001b[0m\n\u001b[0m\u001b[0;32m    848\u001b[0m \u001b[1;33m\u001b[0m\u001b[0m\n\u001b[0;32m    849\u001b[0m     \u001b[0m__call__\u001b[0m\u001b[1;33m.\u001b[0m\u001b[0m__doc__\u001b[0m \u001b[1;33m=\u001b[0m \u001b[0m__doc__\u001b[0m\u001b[1;33m\u001b[0m\u001b[1;33m\u001b[0m\u001b[0m\n",
      "\u001b[1;32m~\\anaconda3\\lib\\site-packages\\pandas\\plotting\\_matplotlib\\__init__.py\u001b[0m in \u001b[0;36mplot\u001b[1;34m(data, kind, **kwargs)\u001b[0m\n\u001b[0;32m     59\u001b[0m             \u001b[0mkwargs\u001b[0m\u001b[1;33m[\u001b[0m\u001b[1;34m\"ax\"\u001b[0m\u001b[1;33m]\u001b[0m \u001b[1;33m=\u001b[0m \u001b[0mgetattr\u001b[0m\u001b[1;33m(\u001b[0m\u001b[0max\u001b[0m\u001b[1;33m,\u001b[0m \u001b[1;34m\"left_ax\"\u001b[0m\u001b[1;33m,\u001b[0m \u001b[0max\u001b[0m\u001b[1;33m)\u001b[0m\u001b[1;33m\u001b[0m\u001b[1;33m\u001b[0m\u001b[0m\n\u001b[0;32m     60\u001b[0m     \u001b[0mplot_obj\u001b[0m \u001b[1;33m=\u001b[0m \u001b[0mPLOT_CLASSES\u001b[0m\u001b[1;33m[\u001b[0m\u001b[0mkind\u001b[0m\u001b[1;33m]\u001b[0m\u001b[1;33m(\u001b[0m\u001b[0mdata\u001b[0m\u001b[1;33m,\u001b[0m \u001b[1;33m**\u001b[0m\u001b[0mkwargs\u001b[0m\u001b[1;33m)\u001b[0m\u001b[1;33m\u001b[0m\u001b[1;33m\u001b[0m\u001b[0m\n\u001b[1;32m---> 61\u001b[1;33m     \u001b[0mplot_obj\u001b[0m\u001b[1;33m.\u001b[0m\u001b[0mgenerate\u001b[0m\u001b[1;33m(\u001b[0m\u001b[1;33m)\u001b[0m\u001b[1;33m\u001b[0m\u001b[1;33m\u001b[0m\u001b[0m\n\u001b[0m\u001b[0;32m     62\u001b[0m     \u001b[0mplot_obj\u001b[0m\u001b[1;33m.\u001b[0m\u001b[0mdraw\u001b[0m\u001b[1;33m(\u001b[0m\u001b[1;33m)\u001b[0m\u001b[1;33m\u001b[0m\u001b[1;33m\u001b[0m\u001b[0m\n\u001b[0;32m     63\u001b[0m     \u001b[1;32mreturn\u001b[0m \u001b[0mplot_obj\u001b[0m\u001b[1;33m.\u001b[0m\u001b[0mresult\u001b[0m\u001b[1;33m\u001b[0m\u001b[1;33m\u001b[0m\u001b[0m\n",
      "\u001b[1;32m~\\anaconda3\\lib\\site-packages\\pandas\\plotting\\_matplotlib\\core.py\u001b[0m in \u001b[0;36mgenerate\u001b[1;34m(self)\u001b[0m\n\u001b[0;32m    259\u001b[0m     \u001b[1;32mdef\u001b[0m \u001b[0mgenerate\u001b[0m\u001b[1;33m(\u001b[0m\u001b[0mself\u001b[0m\u001b[1;33m)\u001b[0m\u001b[1;33m:\u001b[0m\u001b[1;33m\u001b[0m\u001b[1;33m\u001b[0m\u001b[0m\n\u001b[0;32m    260\u001b[0m         \u001b[0mself\u001b[0m\u001b[1;33m.\u001b[0m\u001b[0m_args_adjust\u001b[0m\u001b[1;33m(\u001b[0m\u001b[1;33m)\u001b[0m\u001b[1;33m\u001b[0m\u001b[1;33m\u001b[0m\u001b[0m\n\u001b[1;32m--> 261\u001b[1;33m         \u001b[0mself\u001b[0m\u001b[1;33m.\u001b[0m\u001b[0m_compute_plot_data\u001b[0m\u001b[1;33m(\u001b[0m\u001b[1;33m)\u001b[0m\u001b[1;33m\u001b[0m\u001b[1;33m\u001b[0m\u001b[0m\n\u001b[0m\u001b[0;32m    262\u001b[0m         \u001b[0mself\u001b[0m\u001b[1;33m.\u001b[0m\u001b[0m_setup_subplots\u001b[0m\u001b[1;33m(\u001b[0m\u001b[1;33m)\u001b[0m\u001b[1;33m\u001b[0m\u001b[1;33m\u001b[0m\u001b[0m\n\u001b[0;32m    263\u001b[0m         \u001b[0mself\u001b[0m\u001b[1;33m.\u001b[0m\u001b[0m_make_plot\u001b[0m\u001b[1;33m(\u001b[0m\u001b[1;33m)\u001b[0m\u001b[1;33m\u001b[0m\u001b[1;33m\u001b[0m\u001b[0m\n",
      "\u001b[1;32m~\\anaconda3\\lib\\site-packages\\pandas\\plotting\\_matplotlib\\core.py\u001b[0m in \u001b[0;36m_compute_plot_data\u001b[1;34m(self)\u001b[0m\n\u001b[0;32m    408\u001b[0m         \u001b[1;31m# no non-numeric frames or series allowed\u001b[0m\u001b[1;33m\u001b[0m\u001b[1;33m\u001b[0m\u001b[1;33m\u001b[0m\u001b[0m\n\u001b[0;32m    409\u001b[0m         \u001b[1;32mif\u001b[0m \u001b[0mis_empty\u001b[0m\u001b[1;33m:\u001b[0m\u001b[1;33m\u001b[0m\u001b[1;33m\u001b[0m\u001b[0m\n\u001b[1;32m--> 410\u001b[1;33m             \u001b[1;32mraise\u001b[0m \u001b[0mTypeError\u001b[0m\u001b[1;33m(\u001b[0m\u001b[1;34m\"no numeric data to plot\"\u001b[0m\u001b[1;33m)\u001b[0m\u001b[1;33m\u001b[0m\u001b[1;33m\u001b[0m\u001b[0m\n\u001b[0m\u001b[0;32m    411\u001b[0m \u001b[1;33m\u001b[0m\u001b[0m\n\u001b[0;32m    412\u001b[0m         \u001b[1;31m# GH25587: cast ExtensionArray of pandas (IntegerArray, etc.) to\u001b[0m\u001b[1;33m\u001b[0m\u001b[1;33m\u001b[0m\u001b[1;33m\u001b[0m\u001b[0m\n",
      "\u001b[1;31mTypeError\u001b[0m: no numeric data to plot"
     ]
    }
   ],
   "source": [
    "a.plot()"
   ]
  },
  {
   "cell_type": "code",
   "execution_count": null,
   "metadata": {},
   "outputs": [],
   "source": []
  }
 ],
 "metadata": {
  "kernelspec": {
   "display_name": "Python 3",
   "language": "python",
   "name": "python3"
  },
  "language_info": {
   "codemirror_mode": {
    "name": "ipython",
    "version": 3
   },
   "file_extension": ".py",
   "mimetype": "text/x-python",
   "name": "python",
   "nbconvert_exporter": "python",
   "pygments_lexer": "ipython3",
   "version": "3.7.6"
  }
 },
 "nbformat": 4,
 "nbformat_minor": 4
}
